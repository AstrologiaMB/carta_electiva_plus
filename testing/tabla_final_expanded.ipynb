{
 "cells": [
  {
   "cell_type": "code",
   "execution_count": null,
   "metadata": {},
   "outputs": [],
   "source": [
    "import sys\n",
    "import os\n",
    "import importlib\n",
    "import pandas as pd\n",
    "\n",
    "# Configurar pandas para mostrar todas las filas y columnas\n",
    "pd.set_option('display.max_rows', None)\n",
    "pd.set_option('display.max_columns', None)\n",
    "pd.set_option('display.width', None)\n",
    "\n",
    "# Manually define the path to the project root\n",
    "project_root = os.path.abspath('..')\n",
    "sys.path.append(project_root)\n",
    "from astro_package import final_table as ft\n",
    "importlib.reload(ft)  # Recargar el módulo para tomar los cambios\n",
    "from astro_package.utils.decorators import save_output  # Importa el decorador\n",
    "from datetime import datetime"
   ]
  },
  {
   "cell_type": "code",
   "execution_count": null,
   "metadata": {},
   "outputs": [],
   "source": [
    "# Desde que momento, hasta que momento. Configuración del lugar.\n",
    "start_date = \"28/07/2024 6:00\"\n",
    "end_date = \"28/07/2024 7:00\"\n",
    "\n",
    "# Latitud y Longitud carta(b(n)\n",
    "latitud = \"32s29\"\n",
    "longitud = \"58w14\"\n",
    "\n",
    "# Carta Natal, parámetros\n",
    "dob_bn = \"21/08/1990 07:10\"\n",
    "# Latitud y longitud carta natal\n",
    "latitud_nat = \"32s29\"\n",
    "longitud_nat = \"58w14\"\n",
    "\n",
    "#Formato para la fecha\n",
    "formato_deseado = f'%d/%m/%Y %H:%M'\n",
    "\n",
    "# Transform into datetime object\n",
    "start_date = datetime.strptime(start_date, formato_deseado)\n",
    "end_date = datetime.strptime(end_date, formato_deseado)\n",
    "dob_bn = datetime.strptime(dob_bn, formato_deseado)"
   ]
  },
  {
   "cell_type": "code",
   "execution_count": null,
   "metadata": {},
   "outputs": [],
   "source": [
    "# Obtener y mostrar la tabla final\n",
    "print(\"\\nTabla final:\")\n",
    "# Usar intervalo de 10 minutos para ver cambios en las posiciones planetarias\n",
    "df = ft.generar_tabla(start_date, end_date, latitud, longitud, dob_bn, latitud_nat, longitud_nat, interval_hours=0.167)\n",
    "display(df)"
   ]
  }
 ],
 "metadata": {
  "kernelspec": {
   "display_name": "Python (carta_electiva_2)",
   "language": "python",
   "name": "carta_electiva_2"
  },
  "language_info": {
   "codemirror_mode": {
    "name": "ipython",
    "version": 3
   },
   "file_extension": ".py",
   "mimetype": "text/x-python",
   "name": "python",
   "nbconvert_exporter": "python",
   "pygments_lexer": "ipython3",
   "version": "3.13.0"
  }
 },
 "nbformat": 4,
 "nbformat_minor": 2
}
